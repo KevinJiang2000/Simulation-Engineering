{
 "cells": [
  {
   "cell_type": "code",
   "execution_count": 1,
   "id": "03087945",
   "metadata": {},
   "outputs": [],
   "source": [
    "import numpy as np\n",
    "import matplotlib.pyplot as plt\n",
    "import random\n",
    "from math import *"
   ]
  },
  {
   "cell_type": "code",
   "execution_count": 2,
   "id": "c7363bb2",
   "metadata": {},
   "outputs": [],
   "source": [
    "def rastrigin(x, y, z):\n",
    "    return 30 + x ** 2 + y ** 2 + z ** 2- 10 * cos(2 * pi * x) - 10 * cos(2 * pi * y)- 10 * cos(2 * pi * z)\n",
    "\n",
    "\n",
    "def rastrigin_gradient(x, y, z):\n",
    "    [grad_x, grad_y, grad_z] = [2 * (x + 10 * pi * sin(2 * pi * x)), 2 * (y + 10 * pi * sin(2 * pi * y)),2 * (z + 10 * pi * sin(2 * pi * z))]\n",
    "    return np.array([grad_x, grad_y, grad_z])\n",
    "\n",
    "\n",
    "def rastrigin_hessian(x, y, z):\n",
    "    [[h11, h12, h13],[h21, h22, h23], [h31, h32, h33]] = [[40 * (pi ** 2) * cos(2 * pi * x) + 2, 0 , 0], [0, 40 * (pi ** 2) * cos(2 * pi * x) + 2, 0],[0, 0, 40 * (pi ** 2) * cos(2 * pi * x) + 2]]\n",
    "    return [[h11, h12, h13],[h21, h22, h23], [h31, h32, h33]]"
   ]
  },
  {
   "cell_type": "code",
   "execution_count": 3,
   "id": "1aa12870",
   "metadata": {},
   "outputs": [],
   "source": [
    "def gradient_descent(target_function, coordinates, gradient_of_target_function, optimization_hyper_parameters):\n",
    "\n",
    "    value = []\n",
    "    counter = 0\n",
    "\n",
    "    learning_rate_gd = optimization_hyper_parameters\n",
    "\n",
    "    gradient_magnitude = np.sqrt(gradient_of_target_function(coordinates[0], coordinates[1], coordinates[2])[0] ** 2 +\n",
    "                                 gradient_of_target_function(coordinates[0], coordinates[1], coordinates[2])[0] ** 2 +\n",
    "                                 gradient_of_target_function(coordinates[0], coordinates[1], coordinates[2])[0] ** 2)\n",
    "\n",
    "    while gradient_magnitude > 1e-4 and counter < 1e4:\n",
    "\n",
    "        [x_new, y_new, z_new] = list(np.array(coordinates) - learning_rate_gd *\n",
    "                              gradient_of_target_function(coordinates[0], coordinates[1], coordinates[2]))\n",
    "\n",
    "        coordinates = [x_new, y_new, z_new]\n",
    "\n",
    "        gradient_magnitude = np.sqrt(gradient_of_target_function(coordinates[0], coordinates[1], coordinates[2])[0] ** 2 +\n",
    "                                     gradient_of_target_function(coordinates[0], coordinates[1], coordinates[2])[0] ** 2 +\n",
    "                                     gradient_of_target_function(coordinates[0], coordinates[1], coordinates[2])[0] ** 2)\n",
    "\n",
    "        value.append(target_function(x_new, y_new,z_new))\n",
    "        counter += 1\n",
    "\n",
    "    return value"
   ]
  },
  {
   "cell_type": "code",
   "execution_count": 25,
   "id": "ec3c28e8",
   "metadata": {
    "scrolled": true
   },
   "outputs": [
    {
     "data": {
      "image/png": "[encoded data removed]",
      "text/plain": [
       "<Figure size 288x180 with 1 Axes>"
      ]
     },
     "metadata": {
      "needs_background": "light"
     },
     "output_type": "display_data"
    }
   ],
   "source": [
    "x = 2 * 5.12 * random.random() - 5.12\n",
    "y = 2 * 5.12 * random.random() - 5.12\n",
    "z = 2 * 5.12 * random.random() - 5.12\n",
    "fig = plt.figure(figsize = (4, 2.5))\n",
    "ax = plt.subplot(111)\n",
    "plt.title('η = 1')\n",
    "plt.xlabel(\"n\")\n",
    "plt.ylabel(\"f(x)\")\n",
    "value_1 = gradient_descent(rastrigin, [x, y, z], rastrigin_gradient, 1)\n",
    "ax.plot(value_1, label='GD-0.0001')\n",
    "plt.show()"
   ]
  },
  {
   "cell_type": "code",
   "execution_count": null,
   "id": "603d144e",
   "metadata": {},
   "outputs": [],
   "source": []
  }
 ],
 "metadata": {
  "kernelspec": {
   "display_name": "Python 3",
   "language": "python",
   "name": "python3"
  },
  "language_info": {
   "codemirror_mode": {
    "name": "ipython",
    "version": 3
   },
   "file_extension": ".py",
   "mimetype": "text/x-python",
   "name": "python",
   "nbconvert_exporter": "python",
   "pygments_lexer": "ipython3",
   "version": "3.8.8"
  }
 },
 "nbformat": 4,
 "nbformat_minor": 5
}
