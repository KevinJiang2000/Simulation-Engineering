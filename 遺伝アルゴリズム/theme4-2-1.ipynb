{
 "cells": [
  {
   "cell_type": "code",
   "execution_count": 1,
   "id": "44d4e0aa",
   "metadata": {},
   "outputs": [],
   "source": [
    "def init(popsize,n): \n",
    "    population=[]\n",
    "    for i in range(popsize):\n",
    "        pop=''\n",
    "        for j in range(n):\n",
    "            pop=pop+str(np.random.randint(0,2))\n",
    "        population.append(pop)    \n",
    "    return population"
   ]
  },
  {
   "cell_type": "code",
   "execution_count": 2,
   "id": "dc36587a",
   "metadata": {},
   "outputs": [],
   "source": [
    "def decode(x,n,w,c,W):\n",
    "    s=[]\n",
    "    g=0\n",
    "    f=0\n",
    "    for i in range(n):\n",
    "        if (x[i] == '1'):\n",
    "            if g+w[i] <= W:\n",
    "                g = g+w[i]\n",
    "                f = f+c[i]\n",
    "                s.append(i)\n",
    "            else:\n",
    "                break\n",
    "    return f,s"
   ]
  },
  {
   "cell_type": "code",
   "execution_count": 3,
   "id": "1a89263d",
   "metadata": {},
   "outputs": [],
   "source": [
    "#適応度関数\n",
    "def fitnessfun(population,n,w,c,W):\n",
    "    value=[]\n",
    "    ss=[]\n",
    "    for i in range(len(population)):\n",
    "        [f,s]= decode(population[i],n,w,c,W)\n",
    "        value.append(f)\n",
    "        ss.append(s)\n",
    "    return value,ss"
   ]
  },
  {
   "cell_type": "code",
   "execution_count": 4,
   "id": "bf0ba574",
   "metadata": {},
   "outputs": [],
   "source": [
    "#ルーレット選択\n",
    "def roulettewheel(population,value,pop_num):\n",
    "    fitness_sum=[]\n",
    "    value_sum=sum(value)\n",
    "    fitness=[i/value_sum for i in value]\n",
    "    for i in range(len(population)):##\n",
    "        if i==0:\n",
    "            fitness_sum.append(fitness[i])\n",
    "        else:\n",
    "            fitness_sum.append(fitness_sum[i-1]+fitness[i])\n",
    "    population_new=[]\n",
    "    for j in range(pop_num):###\n",
    "        r=np.random.uniform(0,1)\n",
    "        for i in range(len(fitness_sum)):###\n",
    "            if i==0:\n",
    "                if r>=0 and r<=fitness_sum[i]:\n",
    "                    population_new.append(population[i])\n",
    "            else:\n",
    "                if r>=fitness_sum[i-1] and r<=fitness_sum[i]:\n",
    "                    population_new.append(population[i])\n",
    "    return population_new"
   ]
  },
  {
   "cell_type": "code",
   "execution_count": 5,
   "id": "8aa200d4",
   "metadata": {},
   "outputs": [],
   "source": [
    "#交叉\n",
    "def crossover(population_new,pc,ncross):\n",
    "    a=int(len(population_new)/2)\n",
    "    parents_one=population_new[:a]\n",
    "    parents_two=population_new[a:]\n",
    "    np.random.shuffle(parents_one)\n",
    "    np.random.shuffle(parents_two)\n",
    "    offspring=[]\n",
    "    for i in range(a):\n",
    "        r=np.random.uniform(0,1)\n",
    "        if r<=pc:\n",
    "            point1=np.random.randint(0,(len(parents_one[i])-1))\n",
    "            point2=np.random.randint(point1,len(parents_one[i]))\n",
    "            off_one=parents_one[i][:point1]+parents_two[i][point1:point2]+parents_one[i][point2:]\n",
    "            off_two=parents_two[i][:point1]+parents_one[i][point1:point2]+parents_two[i][point2:]\n",
    "            ncross = ncross+1\n",
    "        else:\n",
    "            off_one=parents_one[i]\n",
    "            off_two=parents_two[i]\n",
    "        offspring.append(off_one)\n",
    "        offspring.append(off_two)\n",
    "    return offspring"
   ]
  },
  {
   "cell_type": "code",
   "execution_count": 6,
   "id": "c8600996",
   "metadata": {},
   "outputs": [],
   "source": [
    "#突然変異\n",
    "def mutation(offspring,pm,nmut):\n",
    "    for i in range(len(offspring)):\n",
    "        for j in range(len(offspring[i])):\n",
    "            r=np.random.uniform(0,1)\n",
    "            if r<=pm:\n",
    "                if j==0:\n",
    "                    if offspring[i][j]=='1':\n",
    "                        offspring[i]='0'+offspring[i][1:]\n",
    "                    else:\n",
    "                        offspring[i]='1'+offspring[i][1:]\n",
    "                else:\n",
    "                    if offspring[i][j]=='1':\n",
    "                        offspring[i]=offspring[i][:(j-1)]+'0'+offspring[i][j:]\n",
    "                    else:\n",
    "                        offspring[i]=offspring[i][:(j-1)]+'1'+offspring[i][j:]\n",
    "                nmut = nmut+1\n",
    "    return offspring"
   ]
  },
  {
   "cell_type": "code",
   "execution_count": 7,
   "id": "62613596",
   "metadata": {
    "scrolled": false
   },
   "outputs": [
    {
     "name": "stdout",
     "output_type": "stream",
     "text": [
      "186\n",
      "最適な組み合わせは：\n",
      "[2, 3, 5, 6, 7, 9, 12, 14, 16, 19]\n",
      "最適な結果は：\n",
      "186\n",
      "最適解が現れる代数：\n",
      "11\n"
     ]
    }
   ],
   "source": [
    "import numpy as np\n",
    "import matplotlib.pyplot as plt\n",
    "\n",
    "gen=500\n",
    "pc=0.85\n",
    "pm=0.06\n",
    "popsize=50 #個体数\n",
    "n = 20\n",
    "w = [8,6,2,3,5,3,4,3,4,5,5,2,5,5,2,5,3,5,8,4]\n",
    "c = [12,18,29,25,1,22,13,11,6,16,5,9,19,13,10,15,10,3,19,31]\n",
    "W = 35\n",
    "\n",
    "population=init(popsize,n)\n",
    "\n",
    "value,s = fitnessfun(population,n,w,c,W)\n",
    "\n",
    "ncross=0\n",
    "nmut=0\n",
    "t=[]\n",
    "best_ind=[]\n",
    "last=[]\n",
    "realvalue=[]\n",
    "x=[]\n",
    "for i in range(gen):\n",
    "    a = 0\n",
    "    avg = 0\n",
    "    #交叉\n",
    "    offspring_c=crossover(population,pc,ncross)\n",
    "    #変異\n",
    "    offspring_m=mutation(offspring_c,pm,nmut)\n",
    "    mixpopulation=population+offspring_m\n",
    "    #適応度関数\n",
    "    value,s = fitnessfun(mixpopulation,n,w,c,W)\n",
    "    for j in range(50):\n",
    "        a = (a + value[0])\n",
    "    avg = a/50\n",
    "    x.append(avg)\n",
    "    #ルーレット選択\n",
    "    population=roulettewheel(mixpopulation,value,popsize)\n",
    "    result=[]\n",
    "    if i==gen-1:\n",
    "            value1,s1 = fitnessfun(population,n,w,c,W)\n",
    "            realvalue=s1\n",
    "            result=value1\n",
    "            last=value1\n",
    "    else:\n",
    "            value1,s1 = fitnessfun(population,n,w,c,W)\n",
    "            result=value1\n",
    "    maxre=max(result)\n",
    "    h=result.index(max(result))\n",
    "    t.append(maxre)\n",
    "    best_ind.append(population[h])\n",
    "    best_value=max(t)\n",
    "print(best_value)\n",
    "hh=t.index(max(t))\n",
    "f2,s2 = decode(best_ind[hh],n,w,c,W)\n",
    "print(\"最適な組み合わせは：\")\n",
    "print(s2)\n",
    "print(\"最適な結果は：\")\n",
    "print(f2)\n",
    "print(\"最適解が現れる代数：\")\n",
    "print(hh)"
   ]
  },
  {
   "cell_type": "code",
   "execution_count": 8,
   "id": "5e4ada85",
   "metadata": {},
   "outputs": [
    {
     "data": {
      "text/plain": [
       "Text(0, 0.5, 'the optimal function value of each generation')"
      ]
     },
     "execution_count": 8,
     "metadata": {},
     "output_type": "execute_result"
    },
    {
     "data": {
      "image/png": "[encoded data removed]",
      "text/plain": [
       "<Figure size 432x288 with 1 Axes>"
      ]
     },
     "metadata": {
      "needs_background": "light"
     },
     "output_type": "display_data"
    }
   ],
   "source": [
    "plt.plot(t)\n",
    "plt.xlabel('the number of iterations')\n",
    "plt.ylabel('the optimal function value of each generation')"
   ]
  },
  {
   "cell_type": "code",
   "execution_count": 9,
   "id": "cc3b851f",
   "metadata": {},
   "outputs": [
    {
     "data": {
      "text/plain": [
       "Text(0, 0.5, 'the average value of each generation')"
      ]
     },
     "execution_count": 9,
     "metadata": {},
     "output_type": "execute_result"
    },
    {
     "data": {
      "image/png": "[encoded data removed]",
      "text/plain": [
       "<Figure size 432x288 with 1 Axes>"
      ]
     },
     "metadata": {
      "needs_background": "light"
     },
     "output_type": "display_data"
    }
   ],
   "source": [
    "plt.plot(x)\n",
    "plt.xlabel('the number of iterations')\n",
    "plt.ylabel('the average value of each generation')"
   ]
  },
  {
   "cell_type": "code",
   "execution_count": null,
   "id": "dd0aeb4b",
   "metadata": {},
   "outputs": [],
   "source": []
  }
 ],
 "metadata": {
  "kernelspec": {
   "display_name": "Python 3",
   "language": "python",
   "name": "python3"
  },
  "language_info": {
   "codemirror_mode": {
    "name": "ipython",
    "version": 3
   },
   "file_extension": ".py",
   "mimetype": "text/x-python",
   "name": "python",
   "nbconvert_exporter": "python",
   "pygments_lexer": "ipython3",
   "version": "3.8.8"
  }
 },
 "nbformat": 4,
 "nbformat_minor": 5
}
